{
 "cells": [
  {
   "cell_type": "code",
   "execution_count": 1,
   "metadata": {
    "id": "sAvikxFo3jOH"
   },
   "outputs": [],
   "source": [
    "#Klein-Model υπόδειγμα με μονοπωλιακή τράπεζα\n",
    "# Δημήτρης Βολιώτης"
   ]
  },
  {
   "cell_type": "markdown",
   "metadata": {
    "id": "nqzvEgk8REgf"
   },
   "source": [
    "## Klein-Model υπόδειγμα με μονοπωλιακή τράπεζα"
   ]
  },
  {
   "cell_type": "code",
   "execution_count": 2,
   "metadata": {
    "id": "DlmtG1jv4-If"
   },
   "outputs": [],
   "source": [
    "import sympy as sp\n",
    "import numpy as np\n",
    "import matplotlib.pyplot as plt\n",
    "from sympy import init_printing # Το init_printing εισάγει το LaTeX printing\n",
    "init_printing(use_latex='mathjax') \n",
    "import math\n",
    "from sympy.plotting import plot3d, plot\n",
    "\n",
    "from sympy.utilities.lambdify import lambdify, implemented_function\n",
    "from sympy import Function\n",
    "\n"
   ]
  },
  {
   "cell_type": "code",
   "execution_count": 3,
   "metadata": {
    "id": "y8Fj9inU6864"
   },
   "outputs": [],
   "source": [
    "#Εισαγωγή βασικών και μεταβλητών και παραμέτρων\n",
    "rD, rL, r = sp.var('rD,rL,r',real=True); #Επιτόκια rD (καταθέσεων), rL (χορηγήσεων), r (παρέμβασης)\n",
    "D, L = sp.var('D,L', real=True); #Καταθέσεις (D) και Χορηγήσεις (L)\n",
    "q = sp.var('q', real=True); # Παράμετρος υποχρεωτικών ρευστών διαθεσίμων\n",
    "# Αντίστροφη συνάρτηση χορηγήσεων\n",
    "A, a = sp.var('A,a', real=True); #Παράμετροι αντίστροφης συνάρτησης χορηγήσεων\n",
    "invrL = A-a*L ;\n",
    "#Αντίστροφη Συνάρτηση καταθέσεων\n",
    "B,b = sp.var('B,b', real=True); #Παράμετροι αντίστροφης συνάρτησης καταθέσεων\n",
    "invrD = B +b*D;\n",
    "#Συνάρτηση κόστους\n",
    "d,g =sp.var('d,g', real=True); # Παράμετροι συνάρτησης κόστους\n",
    "cost1 = (0.5*d)*L**2 + (0.5*g)*D**2"
   ]
  },
  {
   "cell_type": "markdown",
   "metadata": {
    "id": "9qMPcqkJ0KRI"
   },
   "source": [
    "## Γενική Λύση με Κυρτή συνάρτηση Κόστους"
   ]
  },
  {
   "cell_type": "code",
   "execution_count": 4,
   "metadata": {
    "colab": {
     "base_uri": "https://localhost:8080/",
     "height": 38
    },
    "id": "TbbDbu_mO4S8",
    "outputId": "824527a3-6e1c-4a01-e044-e06e71d12939"
   },
   "outputs": [
    {
     "data": {
      "text/latex": [
       "$\\displaystyle - 0.5 D^{2} g + D \\left(- B - D b + r \\left(1 - q\\right)\\right) - 0.5 L^{2} d + L \\left(A - L a - r\\right)$"
      ],
      "text/plain": [
       "       2                                     2                    \n",
       "- 0.5⋅D ⋅g + D⋅(-B - D⋅b + r⋅(1 - q)) - 0.5⋅L ⋅d + L⋅(A - L⋅a - r)"
      ]
     },
     "execution_count": 4,
     "metadata": {},
     "output_type": "execute_result"
    }
   ],
   "source": [
    "#Συνάρτηση κερδών μονοπωλιακής τράπεζας\n",
    "\n",
    "profit = (invrL -r)*L + ((1-q)*r -invrD)*D -cost1\n",
    "profit"
   ]
  },
  {
   "cell_type": "code",
   "execution_count": 5,
   "metadata": {
    "colab": {
     "base_uri": "https://localhost:8080/",
     "height": 38
    },
    "id": "wOA9SKCrV4c6",
    "outputId": "4d4a991e-811d-4cfa-c06e-8a95c1979db2"
   },
   "outputs": [
    {
     "data": {
      "text/latex": [
       "$\\displaystyle \\left[ - B - 2 D b - 1.0 D g + r \\left(1 - q\\right), \\  A - 2 L a - 1.0 L d - r\\right]$"
      ],
      "text/plain": [
       "[-B - 2⋅D⋅b - D⋅g + r⋅(1 - q), A - 2⋅L⋅a - L⋅d - r]"
      ]
     },
     "execution_count": 5,
     "metadata": {},
     "output_type": "execute_result"
    }
   ],
   "source": [
    "#Αναγκαίες συνθήκες πρώτης τάξης \n",
    "derprofit = [sp.diff(profit,x) for x in [D,L]] #Παραγώγιση ως προς το D και το L\n",
    "derprofit\n",
    "#derprofit[0]\n",
    "#derprofit[1]"
   ]
  },
  {
   "cell_type": "code",
   "execution_count": 6,
   "metadata": {
    "colab": {
     "base_uri": "https://localhost:8080/",
     "height": 47
    },
    "id": "-j6fFGpyXM1a",
    "outputId": "28d5826e-4123-44ee-b26f-67c4b2ff0df8"
   },
   "outputs": [
    {
     "data": {
      "text/latex": [
       "$\\displaystyle \\left[ \\left\\{ D : \\frac{- B - q r + r}{2.0 b + g}, \\  L : \\frac{A - r}{2.0 a + d}\\right\\}\\right]$"
      ],
      "text/plain": [
       "⎡⎧   -B - q⋅r + r       A - r  ⎫⎤\n",
       "⎢⎨D: ────────────, L: ─────────⎬⎥\n",
       "⎣⎩    2.0⋅b + g       2.0⋅a + d⎭⎦"
      ]
     },
     "execution_count": 6,
     "metadata": {},
     "output_type": "execute_result"
    }
   ],
   "source": [
    "#Λύση εξισώσεων πρώτης τάξης ως  dictionary\n",
    "equilibrium = sp.solve(derprofit, [D,L], dict=True)\n",
    "equilibrium"
   ]
  },
  {
   "cell_type": "code",
   "execution_count": 7,
   "metadata": {
    "colab": {
     "base_uri": "https://localhost:8080/",
     "height": 47
    },
    "id": "7YKwybIab1wX",
    "outputId": "3e5d6cba-c9b1-4983-dcd5-d15c1304bfb0"
   },
   "outputs": [
    {
     "data": {
      "text/latex": [
       "$\\displaystyle \\left( \\left[ \\frac{- B - q r + r}{2.0 b + g}\\right], \\  \\left[ \\frac{A - r}{2.0 a + d}\\right]\\right)$"
      ],
      "text/plain": [
       "⎛⎡-B - q⋅r + r⎤  ⎡  A - r  ⎤⎞\n",
       "⎜⎢────────────⎥, ⎢─────────⎥⎟\n",
       "⎝⎣ 2.0⋅b + g  ⎦  ⎣2.0⋅a + d⎦⎠"
      ]
     },
     "execution_count": 7,
     "metadata": {},
     "output_type": "execute_result"
    }
   ],
   "source": [
    "# Λύση εξισώσεων πρώτης τάξης ως list\n",
    "Dstar=sp.solve(derprofit[0], D);\n",
    "Lstar= sp.solve(derprofit[1],L);\n",
    "Dstar, Lstar"
   ]
  },
  {
   "cell_type": "markdown",
   "metadata": {},
   "source": [
    "## Προχωρούμε σε μια άσκηση για το υπολογισμό των επιτοκίων στην ισορροπία."
   ]
  },
  {
   "cell_type": "code",
   "execution_count": 8,
   "metadata": {},
   "outputs": [
    {
     "data": {
      "text/latex": [
       "$\\displaystyle \\left( 0.0597014925373134, \\  5.26315789473684\\right)$"
      ],
      "text/plain": [
       "(0.0597014925373134, 5.26315789473684)"
      ]
     },
     "execution_count": 8,
     "metadata": {},
     "output_type": "execute_result"
    }
   ],
   "source": [
    "# Αντικατάσταση (επειδή είναι λίστα, χρησιμοποιούμε το πρώτο argument,πχ. Dstar[0])\n",
    "eqDeposits = Dstar[0].subs([(g,0.005), (q,0.05), (B,0.035), (b,0.5), (r,0.1)])\n",
    "eqLoans = Lstar[0].subs([ (A,1), (r, 0.1), (a,0.085), (d,0.001)])\n",
    "eqDeposits, eqLoans"
   ]
  },
  {
   "cell_type": "code",
   "execution_count": 9,
   "metadata": {},
   "outputs": [
    {
     "data": {
      "text/latex": [
       "$\\displaystyle \\left( 0.0526315789473684, \\  0.0648507462686567\\right)$"
      ],
      "text/plain": [
       "(0.0526315789473684, 0.0648507462686567)"
      ]
     },
     "execution_count": 9,
     "metadata": {},
     "output_type": "execute_result"
    }
   ],
   "source": [
    "# Αντικατάσταση  στις αντίστροφες συναρτήσεις\n",
    "\n",
    "eq_rL = invrL.subs([(A,0.5), (a,0.085) , (L,eqLoans) ]);\n",
    "eq_rD = invrD.subs([(B,0.035), (b,0.5), (D,eqDeposits)]);\n",
    "eq_rL, eq_rD"
   ]
  },
  {
   "cell_type": "code",
   "execution_count": 10,
   "metadata": {},
   "outputs": [
    {
     "data": {
      "text/latex": [
       "$\\displaystyle -0.261366849960723$"
      ],
      "text/plain": [
       "-0.261366849960723"
      ]
     },
     "execution_count": 10,
     "metadata": {},
     "output_type": "execute_result"
    }
   ],
   "source": [
    "# Υπολογισμός κέρδους στην ισορροπία\n",
    "\n",
    "eqProfit = profit.subs([(A,0.5), (a,0.085) , (L,eqLoans),(B,0.035), (b,0.5), (D,eqDeposits), (g,0.005), (d,0.001), (r,0.1),(q,0.05) ]);\n",
    "eqProfit"
   ]
  },
  {
   "cell_type": "markdown",
   "metadata": {
    "id": "DUJw8w2ojjuM"
   },
   "source": [
    "## Λύση του προβλήματος με γραμμικό κόστος\n",
    "$C=dL +gD$"
   ]
  },
  {
   "cell_type": "code",
   "execution_count": 11,
   "metadata": {
    "colab": {
     "base_uri": "https://localhost:8080/",
     "height": 38
    },
    "id": "BWj-H4_zj1On",
    "outputId": "4550e330-7c5b-4007-e17f-11bb86a3af95"
   },
   "outputs": [
    {
     "data": {
      "text/latex": [
       "$\\displaystyle D g + L d$"
      ],
      "text/plain": [
       "D⋅g + L⋅d"
      ]
     },
     "execution_count": 11,
     "metadata": {},
     "output_type": "execute_result"
    }
   ],
   "source": [
    "#Ορισμός του γραμμικού κόστους\n",
    "cost2= d*L + g*D\n",
    "cost2"
   ]
  },
  {
   "cell_type": "code",
   "execution_count": null,
   "metadata": {
    "id": "tNJPatmBqbQ4"
   },
   "outputs": [],
   "source": []
  },
  {
   "cell_type": "code",
   "execution_count": 12,
   "metadata": {
    "colab": {
     "base_uri": "https://localhost:8080/",
     "height": 38
    },
    "id": "XnBDo8D6qdmo",
    "outputId": "7bbc3b55-b5a2-4378-f51d-212e27601f0d"
   },
   "outputs": [
    {
     "data": {
      "text/latex": [
       "$\\displaystyle - D g + D \\left(- B - D b + r \\left(1 - q\\right)\\right) - L d + L \\left(A - L a - r\\right)$"
      ],
      "text/plain": [
       "-D⋅g + D⋅(-B - D⋅b + r⋅(1 - q)) - L⋅d + L⋅(A - L⋅a - r)"
      ]
     },
     "execution_count": 12,
     "metadata": {},
     "output_type": "execute_result"
    }
   ],
   "source": [
    "#Συνάρτηση κερδών μονοπωλιακής τράπεζας\n",
    "\n",
    "profit2 = (invrL -r)*L + ((1-q)*r -invrD)*D -cost2\n",
    "profit2"
   ]
  },
  {
   "cell_type": "code",
   "execution_count": null,
   "metadata": {
    "id": "bunTQaG-qodY"
   },
   "outputs": [],
   "source": []
  },
  {
   "cell_type": "code",
   "execution_count": 13,
   "metadata": {
    "colab": {
     "base_uri": "https://localhost:8080/",
     "height": 38
    },
    "id": "BBDL7FTOqyG4",
    "outputId": "1f602d21-4064-4e7e-b3ee-0280c08a7699"
   },
   "outputs": [
    {
     "data": {
      "text/latex": [
       "$\\displaystyle \\left[ - B - 2 D b - g + r \\left(1 - q\\right), \\  A - 2 L a - d - r\\right]$"
      ],
      "text/plain": [
       "[-B - 2⋅D⋅b - g + r⋅(1 - q), A - 2⋅L⋅a - d - r]"
      ]
     },
     "execution_count": 13,
     "metadata": {},
     "output_type": "execute_result"
    }
   ],
   "source": [
    "#Αναγκαίες συνθήκες πρώτης τάξης \n",
    "derprofit2 = [sp.diff(profit2,x) for x in [D,L]] #Παραγώγιση ως προς το D και το L\n",
    "derprofit2\n",
    "#derprofit2[0]\n",
    "#derprofit2[1]"
   ]
  },
  {
   "cell_type": "code",
   "execution_count": null,
   "metadata": {
    "id": "p7XctMwuuE1F"
   },
   "outputs": [],
   "source": []
  },
  {
   "cell_type": "code",
   "execution_count": 14,
   "metadata": {
    "colab": {
     "base_uri": "https://localhost:8080/",
     "height": 38
    },
    "id": "Zl77RxKiuFG0",
    "outputId": "426e943c-15b6-468f-dcda-a5f87f432825"
   },
   "outputs": [
    {
     "data": {
      "text/latex": [
       "$\\displaystyle \\left[ \\left\\{ D : \\frac{- B - g - q r + r}{2 b}, \\  L : \\frac{A - d - r}{2 a}\\right\\}\\right]$"
      ],
      "text/plain": [
       "⎡⎧   -B - g - q⋅r + r     A - d - r⎫⎤\n",
       "⎢⎨D: ────────────────, L: ─────────⎬⎥\n",
       "⎣⎩         2⋅b               2⋅a   ⎭⎦"
      ]
     },
     "execution_count": 14,
     "metadata": {},
     "output_type": "execute_result"
    }
   ],
   "source": [
    "#Λύση εξισώσεων πρώτης τάξης\n",
    "linequilibrium = sp.solve(derprofit2, [D,L], dict=True)\n",
    "linequilibrium"
   ]
  },
  {
   "cell_type": "markdown",
   "metadata": {
    "id": "h4LOEKY2uX3Q"
   },
   "source": [
    "## Λύση του προβλήματος με μη γραμμικό κόστος\n",
    "$C=L^2 D^2$"
   ]
  },
  {
   "cell_type": "code",
   "execution_count": null,
   "metadata": {
    "id": "6Bi1YyDiumH4"
   },
   "outputs": [],
   "source": []
  },
  {
   "cell_type": "code",
   "execution_count": 15,
   "metadata": {
    "colab": {
     "base_uri": "https://localhost:8080/",
     "height": 38
    },
    "id": "xlPiCULwurNa",
    "outputId": "016bdd3e-9358-4783-fa2c-e7195b356e6b"
   },
   "outputs": [
    {
     "data": {
      "text/latex": [
       "$\\displaystyle D^{2} L^{2}$"
      ],
      "text/plain": [
       " 2  2\n",
       "D ⋅L "
      ]
     },
     "execution_count": 15,
     "metadata": {},
     "output_type": "execute_result"
    }
   ],
   "source": [
    "#Ορισμός του μη γραμμικού κόστους\n",
    "cost3= L**2 * D**2 \n",
    "cost3"
   ]
  },
  {
   "cell_type": "code",
   "execution_count": null,
   "metadata": {
    "id": "LOjl7p81u7EL"
   },
   "outputs": [],
   "source": []
  },
  {
   "cell_type": "code",
   "execution_count": 16,
   "metadata": {
    "colab": {
     "base_uri": "https://localhost:8080/",
     "height": 38
    },
    "id": "V9oWnoWeu7eo",
    "outputId": "c3a9d174-899e-45f1-8eb0-ca7404df20b1"
   },
   "outputs": [
    {
     "data": {
      "text/latex": [
       "$\\displaystyle - D^{2} L^{2} + D \\left(- B - D b + r \\left(1 - q\\right)\\right) + L \\left(A - L a - r\\right)$"
      ],
      "text/plain": [
       "   2  2                                             \n",
       "- D ⋅L  + D⋅(-B - D⋅b + r⋅(1 - q)) + L⋅(A - L⋅a - r)"
      ]
     },
     "execution_count": 16,
     "metadata": {},
     "output_type": "execute_result"
    }
   ],
   "source": [
    "#Συνάρτηση κερδών μονοπωλιακής τράπεζας\n",
    "\n",
    "profit3 = (invrL -r)*L + ((1-q)*r -invrD)*D -cost3\n",
    "profit3"
   ]
  },
  {
   "cell_type": "code",
   "execution_count": null,
   "metadata": {
    "id": "yTXKpgnUvId-"
   },
   "outputs": [],
   "source": []
  },
  {
   "cell_type": "code",
   "execution_count": 17,
   "metadata": {
    "colab": {
     "base_uri": "https://localhost:8080/",
     "height": 38
    },
    "id": "Rd3G98XevIvr",
    "outputId": "febcf1c3-f287-4b7c-d498-ddb533648ab7"
   },
   "outputs": [
    {
     "data": {
      "text/latex": [
       "$\\displaystyle \\left[ - B - 2 D L^{2} - 2 D b + r \\left(1 - q\\right), \\  A - 2 D^{2} L - 2 L a - r\\right]$"
      ],
      "text/plain": [
       "⎡          2                             2              ⎤\n",
       "⎣-B - 2⋅D⋅L  - 2⋅D⋅b + r⋅(1 - q), A - 2⋅D ⋅L - 2⋅L⋅a - r⎦"
      ]
     },
     "execution_count": 17,
     "metadata": {},
     "output_type": "execute_result"
    }
   ],
   "source": [
    "#Αναγκαίες συνθήκες πρώτης τάξης \n",
    "derprofit3 = [sp.diff(profit3,x) for x in [D,L]] #Παραγώγιση ως προς το D και το L\n",
    "derprofit3\n",
    "#derprofit3[0]\n",
    "#derprofit3[1]"
   ]
  },
  {
   "cell_type": "code",
   "execution_count": null,
   "metadata": {
    "id": "EwKYJt0Jvif6"
   },
   "outputs": [],
   "source": []
  },
  {
   "cell_type": "markdown",
   "metadata": {
    "id": "_7ZThS1bz0YN"
   },
   "source": [
    "$$Αριθμητική Λύση$$"
   ]
  },
  {
   "cell_type": "code",
   "execution_count": 18,
   "metadata": {
    "id": "Ge57ZnfN8aW4"
   },
   "outputs": [],
   "source": [
    "#Διάγραμμα αντίστροφης συνάρτησης ζήτησης χορηγήσεων\n",
    "expr1 = invrL.subs({A: 1, a:0.05}); #Εισάγουμε τιμές στις αντίστροφες συναρτήσεις ώστε να σχεδιάσουμε τα διαγράμματα\n",
    "expr2 = invrD.subs({B: 0, b:0.005});\n",
    "expr3 = cost1.subs({d:0.01, g:0.04});\n",
    "#pl1 = plot(expr1, (L, 0, 22), show=False);\n",
    "#pl2 = plot(expr2, (D, 0, 40), show=False);\n",
    "\n",
    "#pl1.show()\n",
    "#pl2.show()"
   ]
  },
  {
   "cell_type": "code",
   "execution_count": 19,
   "metadata": {
    "colab": {
     "base_uri": "https://localhost:8080/",
     "height": 38
    },
    "id": "2KdvrKVxwSqw",
    "outputId": "b57c9f0a-8d84-4fd6-b19d-70728eb0c74c"
   },
   "outputs": [
    {
     "data": {
      "text/latex": [
       "$\\displaystyle \\left[ - 0.05 D + 0.9 r, \\  - 0.11 L - r + 1\\right]$"
      ],
      "text/plain": [
       "[-0.05⋅D + 0.9⋅r, -0.11⋅L - r + 1]"
      ]
     },
     "execution_count": 19,
     "metadata": {},
     "output_type": "execute_result"
    }
   ],
   "source": [
    "#Συνάρτηση κερδών μονοπωλιακής τράπεζας (Με αντικατάσταση)\n",
    "\n",
    "profit0 = (expr1 -r)*L + ((1-q)*r -expr2)*D -expr3\n",
    "profit00 = profit0.subs({q:0.1}) #Αντικατάσταση υποχρεωτικών ρευστών διαθεσίμων με 10%\n",
    "#Αναγκαίες συνθήκες πρώτης τάξης \n",
    "derprofit0 = [sp.diff(profit00,x) for x in [D,L]] #Παραγώγιση ως προς το D και το L\n",
    "derprofit0\n"
   ]
  },
  {
   "cell_type": "markdown",
   "metadata": {},
   "source": [
    "\n",
    "$$Διαγράμματα$$\n"
   ]
  },
  {
   "cell_type": "code",
   "execution_count": 20,
   "metadata": {},
   "outputs": [],
   "source": [
    "#Με κυρτό κόστος"
   ]
  },
  {
   "cell_type": "code",
   "execution_count": 21,
   "metadata": {},
   "outputs": [
    {
     "data": {
      "text/plain": [
       "([(-B - q*r + r)/(2.0*b + g)], [(A - r)/(2.0*a + d)])"
      ]
     },
     "execution_count": 21,
     "metadata": {},
     "output_type": "execute_result"
    }
   ],
   "source": [
    "init_printing(pretty_print=False);\n",
    "Dstar, Lstar"
   ]
  },
  {
   "cell_type": "code",
   "execution_count": null,
   "metadata": {},
   "outputs": [],
   "source": []
  },
  {
   "cell_type": "code",
   "execution_count": 22,
   "metadata": {},
   "outputs": [],
   "source": [
    "#%pylab inline"
   ]
  },
  {
   "cell_type": "code",
   "execution_count": 23,
   "metadata": {},
   "outputs": [
    {
     "name": "stderr",
     "output_type": "stream",
     "text": [
      "C:\\Users\\dvoliotis\\AppData\\Local\\Temp\\ipykernel_17344\\3710274273.py:21: MatplotlibDeprecationWarning: Auto-removal of overlapping axes is deprecated since 3.6 and will be removed two minor releases later; explicitly call ax.remove() as needed.\n",
      "  plt.subplot(1,2,1)\n"
     ]
    },
    {
     "data": {
      "image/png": "[encoded data removed]",
      "text/plain": [
       "<Figure size 640x480 with 2 Axes>"
      ]
     },
     "metadata": {},
     "output_type": "display_data"
    }
   ],
   "source": [
    "def Dstar(r):\n",
    "    return (-B - q*r + r)/(2.0*b + g);\n",
    "def Lstar(r):\n",
    "    return (A - r)/(2.0*a + d);\n",
    "def rL(Lstar):\n",
    "    return A - a*Lstar(r)\n",
    "def rD(Dstar):\n",
    "    return B + b*Dstar(r)\n",
    "\n",
    "A=1\n",
    "a=0.3\n",
    "q=0.1\n",
    "B=0.01\n",
    "b=0.2\n",
    "d=0.001\n",
    "g=0.025\n",
    "r = np.arange(0,0.5,0.001)\n",
    "\n",
    "plt.figure()\n",
    "plt.title('Συγκριτική Στατική')\n",
    "plt.subplot(1,2,1)\n",
    "plt.plot(r, Lstar(r), Dstar(r))\n",
    "plt.grid(True)\n",
    "plt.xlabel(\"Επιτόκιο παρέμβασης\")\n",
    "plt.ylabel('Χορηγήσεις')\n",
    "\n",
    "plt.subplot(1,2,2)\n",
    "plt.plot(r, rL(Lstar), 'r')\n",
    "plt.grid(True)\n",
    "plt.xlabel(\"Επιτόκιο παρέμβασης\")\n",
    "plt.ylabel('Επιτόκιο χορηγήσεων')\n",
    "plt.subplots_adjust(wspace=0.5)"
   ]
  },
  {
   "cell_type": "code",
   "execution_count": null,
   "metadata": {},
   "outputs": [],
   "source": []
  }
 ],
 "metadata": {
  "colab": {
   "name": "Klein_Monti_monopoly.ipynb",
   "provenance": [],
   "toc_visible": true
  },
  "interpreter": {
   "hash": "916dbcbb3f70747c44a77c7bcd40155683ae19c65e1c03b4aa3499c5328201f1"
  },
  "kernelspec": {
   "display_name": "Python 3.9.7 64-bit",
   "name": "python3"
  },
  "language_info": {
   "codemirror_mode": {
    "name": "ipython",
    "version": 3
   },
   "file_extension": ".py",
   "mimetype": "text/x-python",
   "name": "python",
   "nbconvert_exporter": "python",
   "pygments_lexer": "ipython3",
   "version": "3.11.2"
  }
 },
 "nbformat": 4,
 "nbformat_minor": 2
}
