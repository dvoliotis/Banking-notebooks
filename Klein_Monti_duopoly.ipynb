{
 "cells": [
  {
   "cell_type": "code",
   "execution_count": 13,
   "metadata": {
    "executionInfo": {
     "elapsed": 1010,
     "status": "ok",
     "timestamp": 1603904772536,
     "user": {
      "displayName": "Δημήτρης Βολιώτης",
      "photoUrl": "https://lh3.googleusercontent.com/a-/AOh14GizGhcqw0AsOLVKEju2f7F829v29PMGuMoV_ivuFg=s64",
      "userId": "14977750046664129409"
     },
     "user_tz": -120
    },
    "id": "sAvikxFo3jOH"
   },
   "outputs": [],
   "source": [
    "#Klein-Model υπόδειγμα με δυοπώλιο\n",
    "# Δημήτρης Βολιώτης"
   ]
  },
  {
   "cell_type": "code",
   "execution_count": null,
   "metadata": {},
   "outputs": [],
   "source": []
  },
  {
   "cell_type": "markdown",
   "metadata": {
    "id": "nqzvEgk8REgf"
   },
   "source": [
    "## Klein-Model υπόδειγμα με συμμετρικό δυοπώλιο"
   ]
  },
  {
   "cell_type": "code",
   "execution_count": 14,
   "metadata": {
    "executionInfo": {
     "elapsed": 1007,
     "status": "ok",
     "timestamp": 1603904772542,
     "user": {
      "displayName": "Δημήτρης Βολιώτης",
      "photoUrl": "https://lh3.googleusercontent.com/a-/AOh14GizGhcqw0AsOLVKEju2f7F829v29PMGuMoV_ivuFg=s64",
      "userId": "14977750046664129409"
     },
     "user_tz": -120
    },
    "id": "DlmtG1jv4-If"
   },
   "outputs": [],
   "source": [
    "import sympy as sp\n",
    "from sympy import init_printing # Το init_printing εισάγει το LaTeX printing\n",
    "init_printing()\n",
    "import math\n",
    "from sympy.plotting import plot3d, plot\n",
    "\n"
   ]
  },
  {
   "cell_type": "code",
   "execution_count": 15,
   "metadata": {
    "executionInfo": {
     "elapsed": 1003,
     "status": "ok",
     "timestamp": 1603904772545,
     "user": {
      "displayName": "Δημήτρης Βολιώτης",
      "photoUrl": "https://lh3.googleusercontent.com/a-/AOh14GizGhcqw0AsOLVKEju2f7F829v29PMGuMoV_ivuFg=s64",
      "userId": "14977750046664129409"
     },
     "user_tz": -120
    },
    "id": "y8Fj9inU6864"
   },
   "outputs": [],
   "source": [
    "#Εισαγωγή βασικών και μεταβλητών και παραμέτρων\n",
    "rD, rL, r = sp.var('rD,rL,r',real=True); #Επιτόκια rD (καταθέσεων), rL (χορηγήσεων), r (παρέμβασης)\n",
    "D1, D2, L1, L2 = sp.var('D1,D2,L1,L2', real=True); #Καταθέσεις (D) και Χορηγήσεις (L)\n",
    "q = sp.var('q', real=True); # Παράμετρος υποχρεωτικών ρευστών διαθεσίμων\n",
    "#Συνολικές Χορηγήσεις\n",
    "L = L1 + L2;\n",
    "D = D1 + D2;\n",
    "# Αντίστροφη συνάρτηση χορηγήσεων\n",
    "A, a = sp.var('A,a', real=True); #Παράμετροι αντίστροφης συνάρτησης χορηγήσεων\n",
    "invrL = A-a*L ;\n",
    "#Αντίστροφη Συνάρτηση καταθέσεων\n",
    "B,b = sp.var('B,b', real=True); #Παράμετροι αντίστροφης συνάρτησης καταθέσεων\n",
    "invrD = B +b*D;\n",
    "#Συνάρτηση κόστους\n",
    "d,g =sp.var('d,g', real=True); # Παράμετροι συνάρτησης κόστους\n",
    "cost11 = (0.5*d)*L1**2 + (0.5*g)*D1**2;\n",
    "cost12 = (0.5*d)*L2**2 + (0.5*g)*D2**2"
   ]
  },
  {
   "cell_type": "markdown",
   "metadata": {
    "id": "9qMPcqkJ0KRI"
   },
   "source": [
    "## Γενική Λύση με Κυρτή συνάρτηση Κόστους"
   ]
  },
  {
   "cell_type": "code",
   "execution_count": 16,
   "metadata": {
    "colab": {
     "base_uri": "https://localhost:8080/",
     "height": 38
    },
    "executionInfo": {
     "elapsed": 1671,
     "status": "ok",
     "timestamp": 1603904773224,
     "user": {
      "displayName": "Δημήτρης Βολιώτης",
      "photoUrl": "https://lh3.googleusercontent.com/a-/AOh14GizGhcqw0AsOLVKEju2f7F829v29PMGuMoV_ivuFg=s64",
      "userId": "14977750046664129409"
     },
     "user_tz": -120
    },
    "id": "TbbDbu_mO4S8",
    "outputId": "cf967fa1-7c50-432f-fec1-cb9130b21ef4"
   },
   "outputs": [
    {
     "data": {
      "image/png": "[encoded data removed]",
      "text/latex": [
       "$\\displaystyle - 0.5 D_{1}^{2} g + D_{1} \\left(- B - b \\left(D_{1} + D_{2}\\right) + r \\left(1 - q\\right)\\right) - 0.5 L_{1}^{2} d + L_{1} \\left(A - a \\left(L_{1} + L_{2}\\right) - r\\right)$"
      ],
      "text/plain": [
       "        2                                               2                     \n",
       "- 0.5⋅D₁ ⋅g + D₁⋅(-B - b⋅(D₁ + D₂) + r⋅(1 - q)) - 0.5⋅L₁ ⋅d + L₁⋅(A - a⋅(L₁ + \n",
       "\n",
       "        \n",
       "L₂) - r)"
      ]
     },
     "execution_count": 16,
     "metadata": {},
     "output_type": "execute_result"
    }
   ],
   "source": [
    "#Συνάρτηση κερδών  τράπεζας b1\n",
    "\n",
    "profitb1 = (invrL -r)*L1 + ((1-q)*r -invrD)*D1 -cost11\n",
    "profitb1"
   ]
  },
  {
   "cell_type": "code",
   "execution_count": 17,
   "metadata": {
    "colab": {
     "base_uri": "https://localhost:8080/",
     "height": 38
    },
    "executionInfo": {
     "elapsed": 1664,
     "status": "ok",
     "timestamp": 1603904773228,
     "user": {
      "displayName": "Δημήτρης Βολιώτης",
      "photoUrl": "https://lh3.googleusercontent.com/a-/AOh14GizGhcqw0AsOLVKEju2f7F829v29PMGuMoV_ivuFg=s64",
      "userId": "14977750046664129409"
     },
     "user_tz": -120
    },
    "id": "YYsD8tyS04G5",
    "outputId": "eef0c1a7-b5df-427b-af24-61a3887c3deb"
   },
   "outputs": [
    {
     "data": {
      "image/png": "[encoded data removed]",
      "text/latex": [
       "$\\displaystyle - 0.5 D_{2}^{2} g - D_{2} \\left(B + b \\left(D_{1} + D_{2}\\right) + r \\left(q - 1\\right)\\right) - 0.5 L_{2}^{2} d - L_{2} \\left(- A + a \\left(L_{1} + L_{2}\\right) + r\\right)$"
      ],
      "text/plain": [
       "        2                                              2                      \n",
       "- 0.5⋅D₂ ⋅g - D₂⋅(B + b⋅(D₁ + D₂) + r⋅(q - 1)) - 0.5⋅L₂ ⋅d - L₂⋅(-A + a⋅(L₁ + \n",
       "\n",
       "        \n",
       "L₂) + r)"
      ]
     },
     "execution_count": 17,
     "metadata": {},
     "output_type": "execute_result"
    }
   ],
   "source": [
    "#Συνάρτηση κερδών  τράπεζας b2\n",
    "\n",
    "profitb2 = (invrL -r)*L2 + ((1-q)*r -invrD)*D2 -cost12\n",
    "profitb2.simplify()"
   ]
  },
  {
   "cell_type": "code",
   "execution_count": 18,
   "metadata": {
    "colab": {
     "base_uri": "https://localhost:8080/",
     "height": 38
    },
    "executionInfo": {
     "elapsed": 1649,
     "status": "ok",
     "timestamp": 1603904773231,
     "user": {
      "displayName": "Δημήτρης Βολιώτης",
      "photoUrl": "https://lh3.googleusercontent.com/a-/AOh14GizGhcqw0AsOLVKEju2f7F829v29PMGuMoV_ivuFg=s64",
      "userId": "14977750046664129409"
     },
     "user_tz": -120
    },
    "id": "wOA9SKCrV4c6",
    "outputId": "2324559f-8014-40db-cbb1-cb7cc6ecc024"
   },
   "outputs": [
    {
     "data": {
      "image/png": "[encoded data removed]",
      "text/latex": [
       "$\\displaystyle \\left( - B - D_{1} b - 1.0 D_{1} g - b \\left(D_{1} + D_{2}\\right) + r \\left(1 - q\\right), \\  A - L_{1} a - 1.0 L_{1} d - a \\left(L_{1} + L_{2}\\right) - r\\right)$"
      ],
      "text/plain": [
       "(-B - D₁⋅b - D₁⋅g - b⋅(D₁ + D₂) + r⋅(1 - q), A - L₁⋅a - L₁⋅d - a⋅(L₁ + L₂) - r\n",
       ")"
      ]
     },
     "execution_count": 18,
     "metadata": {},
     "output_type": "execute_result"
    }
   ],
   "source": [
    "#Λύση μαθηματικού προγράμματος τράπεζας β1\n",
    "#Αναγκαίες συνθήκες πρώτης τάξης \n",
    "derprofitb1L1 = sp.diff(profitb1,L1) \n",
    "derprofitb1D1 = sp.diff(profitb1,D1) \n",
    "\n",
    "derprofitb1D1, derprofitb1L1"
   ]
  },
  {
   "cell_type": "code",
   "execution_count": 19,
   "metadata": {
    "colab": {
     "base_uri": "https://localhost:8080/",
     "height": 38
    },
    "executionInfo": {
     "elapsed": 1641,
     "status": "ok",
     "timestamp": 1603904773233,
     "user": {
      "displayName": "Δημήτρης Βολιώτης",
      "photoUrl": "https://lh3.googleusercontent.com/a-/AOh14GizGhcqw0AsOLVKEju2f7F829v29PMGuMoV_ivuFg=s64",
      "userId": "14977750046664129409"
     },
     "user_tz": -120
    },
    "id": "_X_uB0fn2WSM",
    "outputId": "5ade9e8c-eb0e-4abf-8d36-1c6961710d88"
   },
   "outputs": [
    {
     "data": {
      "image/png": "[encoded data removed]",
      "text/latex": [
       "$\\displaystyle \\left( - B - D_{2} b - 1.0 D_{2} g - b \\left(D_{1} + D_{2}\\right) + r \\left(1 - q\\right), \\  A - L_{2} a - 1.0 L_{2} d - a \\left(L_{1} + L_{2}\\right) - r\\right)$"
      ],
      "text/plain": [
       "(-B - D₂⋅b - D₂⋅g - b⋅(D₁ + D₂) + r⋅(1 - q), A - L₂⋅a - L₂⋅d - a⋅(L₁ + L₂) - r\n",
       ")"
      ]
     },
     "execution_count": 19,
     "metadata": {},
     "output_type": "execute_result"
    }
   ],
   "source": [
    "#Λύση μαθηματικού προγράμματος τράπεζας β2\n",
    "#Αναγκαίες συνθήκες πρώτης τάξης \n",
    "derprofitb2L2 = sp.diff(profitb2,L2) \n",
    "derprofitb2D2 = sp.diff(profitb2,D2) \n",
    "\n",
    "derprofitb2D2, derprofitb2L2"
   ]
  },
  {
   "cell_type": "code",
   "execution_count": 20,
   "metadata": {
    "colab": {
     "base_uri": "https://localhost:8080/",
     "height": 47
    },
    "executionInfo": {
     "elapsed": 1636,
     "status": "ok",
     "timestamp": 1603904773236,
     "user": {
      "displayName": "Δημήτρης Βολιώτης",
      "photoUrl": "https://lh3.googleusercontent.com/a-/AOh14GizGhcqw0AsOLVKEju2f7F829v29PMGuMoV_ivuFg=s64",
      "userId": "14977750046664129409"
     },
     "user_tz": -120
    },
    "id": "6Irdyfby3xVG",
    "outputId": "5d0af98d-49b6-41ae-be35-9dfee9ecf4b9"
   },
   "outputs": [
    {
     "data": {
      "image/png": "[encoded data removed]",
      "text/latex": [
       "$\\displaystyle \\left( \\left\\{ D_{1} : \\frac{- B - q r + r}{3.0 b + g}, \\  D_{2} : \\frac{- B - q r + r}{3.0 b + g}\\right\\}, \\  \\left\\{ L_{1} : \\frac{A - r}{3.0 a + d}, \\  L_{2} : \\frac{A - r}{3.0 a + d}\\right\\}\\right)$"
      ],
      "text/plain": [
       "⎛⎧    -B - q⋅r + r      -B - q⋅r + r⎫  ⎧      A - r          A - r  ⎫⎞\n",
       "⎜⎨D₁: ────────────, D₂: ────────────⎬, ⎨L₁: ─────────, L₂: ─────────⎬⎟\n",
       "⎝⎩     3.0⋅b + g         3.0⋅b + g  ⎭  ⎩    3.0⋅a + d      3.0⋅a + d⎭⎠"
      ]
     },
     "execution_count": 20,
     "metadata": {},
     "output_type": "execute_result"
    }
   ],
   "source": [
    "#Λύση συστήματος εξισώσεων από τις ΑΣΠΤ\n",
    "\n",
    "equilibrium_L = sp.solve((derprofitb1L1, derprofitb2L2), L1, L2)\n",
    "equilibrium_D = sp.solve((derprofitb1D1, derprofitb2D2), D1, D2)\n",
    "equilibrium_D, equilibrium_L \n",
    "#equilibrium_D[D1], equilibrium_L[L1]"
   ]
  },
  {
   "cell_type": "markdown",
   "metadata": {},
   "source": [
    "## Άσκηση Υπολογισμού Ισορροπίας"
   ]
  },
  {
   "cell_type": "code",
   "execution_count": 26,
   "metadata": {},
   "outputs": [
    {
     "data": {
      "image/png": "[encoded data removed]",
      "text/latex": [
       "$\\displaystyle \\left( 5.96026490066225, \\  0.612903225806452, \\  5.96026490066225, \\  0.612903225806452\\right)$"
      ],
      "text/plain": [
       "(5.96026490066225, 0.612903225806452, 5.96026490066225, 0.612903225806452)"
      ]
     },
     "execution_count": 26,
     "metadata": {},
     "output_type": "execute_result"
    }
   ],
   "source": [
    "# Υπολογισμός καταθέσεων και χορηγήσεων για τις δύο τράπεζες\n",
    "\n",
    "eqLoans1 = equilibrium_L[L1].subs([(A,1), (r, 0.1), (a,0.05), (d,0.001)]);\n",
    "eqDeposits1 = equilibrium_D[D1].subs([(g,0.005), (q,0.05), (B,0), (b,0.05), (r,0.1)]);\n",
    "eqLoans2 = equilibrium_L[L2].subs([(A,1), (r, 0.1), (a,0.05), (d,0.001)]);\n",
    "eqDeposits2 = equilibrium_D[D2].subs([(g,0.005), (q,0.05), (B,0), (b,0.05), (r,0.1)]);\n",
    "eqLoans1, eqDeposits1, eqLoans2, eqDeposits2"
   ]
  },
  {
   "cell_type": "markdown",
   "metadata": {},
   "source": [
    "### Υπολογισμός Επιτοκίων στην ισορροπία"
   ]
  },
  {
   "cell_type": "code",
   "execution_count": 27,
   "metadata": {},
   "outputs": [
    {
     "data": {
      "image/png": "[encoded data removed]",
      "text/latex": [
       "$\\displaystyle \\left( 0.403973509933775, \\  0.0612903225806452\\right)$"
      ],
      "text/plain": [
       "(0.403973509933775, 0.0612903225806452)"
      ]
     },
     "execution_count": 27,
     "metadata": {},
     "output_type": "execute_result"
    }
   ],
   "source": [
    "eqL = eqLoans1 + eqLoans2;\n",
    "eqD = eqDeposits1 + eqDeposits2;\n",
    "\n",
    "eq_rL = invrL.subs([(A,1), (a,0.05), (L1, eqLoans1), (L2, eqLoans2)]);\n",
    "eq_rD = invrD.subs([(B,0), (b,0.05), (D1, eqDeposits1), (D2, eqDeposits2)]);\n",
    "eq_rL, eq_rD"
   ]
  },
  {
   "cell_type": "markdown",
   "metadata": {},
   "source": [
    "## Υπολογισμός κερδών στην ισορροπία "
   ]
  },
  {
   "cell_type": "code",
   "execution_count": 23,
   "metadata": {},
   "outputs": [
    {
     "data": {
      "image/png": "[encoded data removed]",
      "text/latex": [
       "$\\displaystyle \\left( 0.209538901056383, \\  0.209538901056383\\right)$"
      ],
      "text/plain": [
       "(0.209538901056383, 0.209538901056383)"
      ]
     },
     "execution_count": 23,
     "metadata": {},
     "output_type": "execute_result"
    }
   ],
   "source": [
    "#profitb1 = (invrL -r)*L1 + ((1-q)*r -invrD)*D1 -cost11\n",
    "eqprofitb1 = profitb1.subs([(L1, eqLoans1), (L2, eqLoans2), (D1, eqDeposits1), (D2, eqDeposits2), (A,0.5), (a,0.085), \n",
    "                            (B,0.035), (b,0.5), (g,0.005),  (d,0.001), (r, 0.1), (q,0.05)])\n",
    "eqprofitb2 = profitb2.subs([(L1, eqLoans1), (L2, eqLoans2), (D1, eqDeposits1), (D2, eqDeposits2), (A,0.5), (a,0.085), \n",
    "                            (B,0.035), (b,0.5), (g,0.005),  (d,0.001), (r, 0.1), (q,0.05)])\n",
    "eqprofitb1, eqprofitb2"
   ]
  },
  {
   "cell_type": "code",
   "execution_count": null,
   "metadata": {},
   "outputs": [],
   "source": []
  },
  {
   "cell_type": "code",
   "execution_count": null,
   "metadata": {},
   "outputs": [],
   "source": []
  }
 ],
 "metadata": {
  "colab": {
   "authorship_tag": "ABX9TyND1TRwWLPvpZrHFrj8d1rc",
   "name": "Klein_Monti_duopoly.ipynb",
   "provenance": []
  },
  "interpreter": {
   "hash": "916dbcbb3f70747c44a77c7bcd40155683ae19c65e1c03b4aa3499c5328201f1"
  },
  "kernelspec": {
   "display_name": "Python 3.9.7 64-bit",
   "name": "python3"
  },
  "language_info": {
   "codemirror_mode": {
    "name": "ipython",
    "version": 3
   },
   "file_extension": ".py",
   "mimetype": "text/x-python",
   "name": "python",
   "nbconvert_exporter": "python",
   "pygments_lexer": "ipython3",
   "version": "3.10.4"
  }
 },
 "nbformat": 4,
 "nbformat_minor": 2
}
