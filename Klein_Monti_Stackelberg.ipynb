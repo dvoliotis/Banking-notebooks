{
 "cells": [
  {
   "cell_type": "code",
   "execution_count": 156,
   "metadata": {},
   "outputs": [],
   "source": [
    "## Klein-Monti υποδειγμα ως Stackelberg"
   ]
  },
  {
   "cell_type": "code",
   "execution_count": 157,
   "metadata": {
    "id": "DlmtG1jv4-If"
   },
   "outputs": [],
   "source": [
    "import sympy as sp\n",
    "from sympy import init_printing # Το init_printing εισάγει το LaTeX printing\n",
    "init_printing(use_latex='mathjax')\n",
    "import math\n",
    "from sympy.plotting import plot3d, plot\n",
    "\n"
   ]
  },
  {
   "cell_type": "code",
   "execution_count": 158,
   "metadata": {
    "id": "y8Fj9inU6864"
   },
   "outputs": [],
   "source": [
    "#Εισαγωγή βασικών και μεταβλητών και παραμέτρων\n",
    "rD, rL, r = sp.var('rD,rL,r',real=True); #Επιτόκια rD (καταθέσεων), rL (χορηγήσεων), r (παρέμβασης)\n",
    "D1, D2, L1, L2 = sp.var('D1,D2,L1,L2', real=True); #Καταθέσεις (D) και Χορηγήσεις (L)\n",
    "q = sp.var('q', real=True); # Παράμετρος υποχρεωτικών ρευστών διαθεσίμων\n",
    "#Συνολικές Χορηγήσεις\n",
    "L = L1 + L2\n",
    "D = D1 + D2\n",
    "# Αντίστροφη συνάρτηση χορηγήσεων\n",
    "A, a = sp.var('A,a', real=True); #Παράμετροι αντίστροφης συνάρτησης χορηγήσεων\n",
    "invrL = A-a*L \n",
    "#Αντίστροφη Συνάρτηση καταθέσεων\n",
    "B,b = sp.var('B,b', real=True); #Παράμετροι αντίστροφης συνάρτησης καταθέσεων\n",
    "invrD = B +b*D\n",
    "#Συνάρτηση κόστους\n",
    "d1, d2,g1, g2 =sp.var('d1, d2, g1,g2', real=True); # Παράμετροι συνάρτησης κόστους\n",
    "cost1 = d1*L1 + g1*D1\n",
    "cost2 = d2*L2 + g2*D2"
   ]
  },
  {
   "cell_type": "markdown",
   "metadata": {},
   "source": [
    "Όρίζουμε την συνάρτηση κόστους να είναι γραμμική. Επίσης ορίζουμε το κόστος να είναι διαφορετικό μεταξύ των δύο τραπεζών. Αναμένουμε η ηγετιδα τράπεζα να έχει μικρότερο οριακό κόστος από την ακόλουθο."
   ]
  },
  {
   "cell_type": "code",
   "execution_count": 159,
   "metadata": {},
   "outputs": [
    {
     "data": {
      "text/latex": [
       "$\\displaystyle \\left( A - a \\left(L_{1} + L_{2}\\right), \\  B + b \\left(D_{1} + D_{2}\\right), \\  D_{1} g_{1} + L_{1} d_{1}, \\  D_{2} g_{2} + L_{2} d_{2}\\right)$"
      ],
      "text/plain": [
       "(A - a⋅(L₁ + L₂), B + b⋅(D₁ + D₂), D₁⋅g₁ + L₁⋅d₁, D₂⋅g₂ + L₂⋅d₂)"
      ]
     },
     "execution_count": 159,
     "metadata": {},
     "output_type": "execute_result"
    }
   ],
   "source": [
    "invrL, invrD, cost1, cost2"
   ]
  },
  {
   "cell_type": "markdown",
   "metadata": {},
   "source": [
    "Συνάρτηση κέρδους για την ηγέτιδα (Τράπεζα 1) και την ακόλουθο τράπεζα (Τράπεζα 2)."
   ]
  },
  {
   "cell_type": "code",
   "execution_count": 160,
   "metadata": {},
   "outputs": [
    {
     "data": {
      "text/latex": [
       "$\\displaystyle A L_{2} - B D_{2} - D_{1} D_{2} b - D_{2}^{2} b - D_{2} g_{2} - D_{2} q r + D_{2} r - L_{1} L_{2} a - L_{2}^{2} a - L_{2} d_{2} - L_{2} r$"
      ],
      "text/plain": [
       "                          2                                         2         \n",
       "A⋅L₂ - B⋅D₂ - D₁⋅D₂⋅b - D₂ ⋅b - D₂⋅g₂ - D₂⋅q⋅r + D₂⋅r - L₁⋅L₂⋅a - L₂ ⋅a - L₂⋅d\n",
       "\n",
       "        \n",
       "₂ - L₂⋅r"
      ]
     },
     "execution_count": 160,
     "metadata": {},
     "output_type": "execute_result"
    }
   ],
   "source": [
    "#Συνάρτηση κέρδους για την ηγέτιδα τράπεζα.\n",
    "profit1 = (invrL -r)*L1 + ((1-q)*r -invrD)*D1 -cost1\n",
    "profit2 = (invrL -r)*L2 + ((1-q)*r -invrD)*D2 -cost2\n",
    "\n",
    "profit2.expand()"
   ]
  },
  {
   "cell_type": "code",
   "execution_count": 161,
   "metadata": {
    "colab": {
     "base_uri": "https://localhost:8080/",
     "height": 38
    },
    "id": "_X_uB0fn2WSM",
    "outputId": "62beb6bb-20f3-4880-c96f-a8ffbc694156"
   },
   "outputs": [
    {
     "data": {
      "text/latex": [
       "$\\displaystyle \\left( A - L_{2} a - a \\left(L_{1} + L_{2}\\right) - d_{2} - r, \\  - B - D_{2} b - b \\left(D_{1} + D_{2}\\right) - g_{2} + r \\left(1 - q\\right)\\right)$"
      ],
      "text/plain": [
       "(A - L₂⋅a - a⋅(L₁ + L₂) - d₂ - r, -B - D₂⋅b - b⋅(D₁ + D₂) - g₂ + r⋅(1 - q))"
      ]
     },
     "execution_count": 161,
     "metadata": {},
     "output_type": "execute_result"
    }
   ],
   "source": [
    "#Λύση μαθηματικού προγράμματος τράπεζας β2\n",
    "#Αναγκαίες συνθήκες πρώτης τάξης \n",
    "dprofit2L2 = sp.diff(profit2,L2) \n",
    "dprofit2D2 = sp.diff(profit2,D2) \n",
    "\n",
    "dprofit2L2, dprofit2D2"
   ]
  },
  {
   "cell_type": "code",
   "execution_count": 162,
   "metadata": {},
   "outputs": [
    {
     "data": {
      "text/latex": [
       "$\\displaystyle \\left( \\left[ \\frac{A - L_{1} a - d_{2} - r}{2 a}\\right], \\  \\left[ \\frac{- B - D_{1} b - g_{2} - q r + r}{2 b}\\right]\\right)$"
      ],
      "text/plain": [
       "⎛⎡A - L₁⋅a - d₂ - r⎤  ⎡-B - D₁⋅b - g₂ - q⋅r + r⎤⎞\n",
       "⎜⎢─────────────────⎥, ⎢────────────────────────⎥⎟\n",
       "⎝⎣       2⋅a       ⎦  ⎣          2⋅b           ⎦⎠"
      ]
     },
     "execution_count": 162,
     "metadata": {},
     "output_type": "execute_result"
    }
   ],
   "source": [
    "L22 = sp.solve(dprofit2L2, L2)\n",
    "D22 = sp.solve(dprofit2D2, D2)\n",
    "L22, D22"
   ]
  },
  {
   "cell_type": "code",
   "execution_count": 163,
   "metadata": {},
   "outputs": [
    {
     "data": {
      "text/latex": [
       "$\\displaystyle \\frac{A L_{1}}{2} - \\frac{B D_{1}}{2} - \\frac{D_{1}^{2} b}{2} - D_{1} g_{1} + \\frac{D_{1} g_{2}}{2} - \\frac{D_{1} q r}{2} + \\frac{D_{1} r}{2} - \\frac{L_{1}^{2} a}{2} - L_{1} d_{1} + \\frac{L_{1} d_{2}}{2} - \\frac{L_{1} r}{2}$"
      ],
      "text/plain": [
       "                2                                       2                     \n",
       "A⋅L₁   B⋅D₁   D₁ ⋅b           D₁⋅g₂   D₁⋅q⋅r   D₁⋅r   L₁ ⋅a           L₁⋅d₂   \n",
       "──── - ──── - ───── - D₁⋅g₁ + ───── - ────── + ──── - ───── - L₁⋅d₁ + ───── - \n",
       " 2      2       2               2       2       2       2               2     \n",
       "\n",
       "    \n",
       "L₁⋅r\n",
       "────\n",
       " 2  "
      ]
     },
     "execution_count": 163,
     "metadata": {},
     "output_type": "execute_result"
    }
   ],
   "source": [
    "#eqx2 = b2[0].xreplace({x1: eqx1[0]})\n",
    "profitLeader = profit1.xreplace({L2:L22[0], D2:D22[0]})\n",
    "\n",
    "profitLeader.expand()\n"
   ]
  },
  {
   "cell_type": "markdown",
   "metadata": {},
   "source": [
    "Στην συνέχεια μεγιστοποιώ την συνάρτηση κέρδους της ηγέτιδος ως προς τις στρατηγικές μεταβλητές της."
   ]
  },
  {
   "cell_type": "code",
   "execution_count": 164,
   "metadata": {},
   "outputs": [
    {
     "data": {
      "text/latex": [
       "$\\displaystyle \\left[ \\frac{A - 2 d_{1} + d_{2} - r}{2 a}\\right]$"
      ],
      "text/plain": [
       "⎡A - 2⋅d₁ + d₂ - r⎤\n",
       "⎢─────────────────⎥\n",
       "⎣       2⋅a       ⎦"
      ]
     },
     "execution_count": 164,
     "metadata": {},
     "output_type": "execute_result"
    }
   ],
   "source": [
    "L1star = sp.solve(sp.diff(profitLeader,L1), L1)\n",
    "L1star"
   ]
  },
  {
   "cell_type": "code",
   "execution_count": 165,
   "metadata": {},
   "outputs": [
    {
     "data": {
      "text/latex": [
       "$\\displaystyle \\left[ \\frac{- B - 2 g_{1} + g_{2} - q r + r}{2 b}\\right]$"
      ],
      "text/plain": [
       "⎡-B - 2⋅g₁ + g₂ - q⋅r + r⎤\n",
       "⎢────────────────────────⎥\n",
       "⎣          2⋅b           ⎦"
      ]
     },
     "execution_count": 165,
     "metadata": {},
     "output_type": "execute_result"
    }
   ],
   "source": [
    "D1star = sp.solve(sp.diff(profitLeader,D1), D1)\n",
    "D1star"
   ]
  },
  {
   "cell_type": "markdown",
   "metadata": {},
   "source": [
    "Επιστρέφω τώρα στον ακόλουθο, για να υπολογίσω την βέλτιστη λύση, όπως υπολογίστηκε μετην προς τα πίσω επάγωγή."
   ]
  },
  {
   "cell_type": "code",
   "execution_count": 166,
   "metadata": {},
   "outputs": [
    {
     "data": {
      "text/latex": [
       "$\\displaystyle - \\frac{- A - 2 d_{1} + 3 d_{2} + r}{4 a}$"
      ],
      "text/plain": [
       "-(-A - 2⋅d₁ + 3⋅d₂ + r) \n",
       "────────────────────────\n",
       "          4⋅a           "
      ]
     },
     "execution_count": 166,
     "metadata": {},
     "output_type": "execute_result"
    }
   ],
   "source": [
    "L2star = L22[0].xreplace({L1:L1star[0]})\n",
    "L2star.factor()"
   ]
  },
  {
   "cell_type": "code",
   "execution_count": 167,
   "metadata": {},
   "outputs": [
    {
     "data": {
      "text/latex": [
       "$\\displaystyle - \\frac{B - 2 g_{1} + 3 g_{2} + q r - r}{4 b}$"
      ],
      "text/plain": [
       "-(B - 2⋅g₁ + 3⋅g₂ + q⋅r - r) \n",
       "─────────────────────────────\n",
       "             4⋅b             "
      ]
     },
     "execution_count": 167,
     "metadata": {},
     "output_type": "execute_result"
    }
   ],
   "source": [
    "D2star = D22[0].xreplace({D1:D1star[0]})\n",
    "D2star.factor()"
   ]
  },
  {
   "cell_type": "markdown",
   "metadata": {},
   "source": [
    "### Υπολογισμός Αριθμητικού Παραδείγματος"
   ]
  },
  {
   "cell_type": "markdown",
   "metadata": {},
   "source": [
    "Υποθέστε τιμές σε εκ.ευρώ"
   ]
  },
  {
   "cell_type": "code",
   "execution_count": 168,
   "metadata": {},
   "outputs": [
    {
     "data": {
      "text/latex": [
       "$\\displaystyle \\left( 2374.75, \\  192.5, \\  1186.875, \\  95.25\\right)$"
      ],
      "text/plain": [
       "(2374.75, 192.5, 1186.875, 95.25)"
      ]
     },
     "execution_count": 168,
     "metadata": {},
     "output_type": "execute_result"
    }
   ],
   "source": [
    "vals = {B:0.01, b:0.0001, A:1, a:0.0002, r:0.05, d1:0.0002, d2:0.0003, g1:0.0001, g2:0.0002, q:0.03}\n",
    "\n",
    "\n",
    "L1star[0].subs(vals), D1star[0].subs(vals), L2star.subs(vals), D2star.subs(vals)"
   ]
  },
  {
   "cell_type": "markdown",
   "metadata": {},
   "source": [
    "Το ύψος των χορηγήσεων της ηγέτιδος τράπεζας είναι 2374,75 εκ. ευρώ ενώ για την ακόλουθο είναι 1186,875 εκ. ευρώ. Αντίστοιχα οι καταθέσεις της ηγέτιδος είναι 192.5 εκ. και όμοια για την ακόλουθο είναι 95.25 εκ."
   ]
  },
  {
   "cell_type": "code",
   "execution_count": 169,
   "metadata": {},
   "outputs": [
    {
     "data": {
      "text/latex": [
       "$\\displaystyle \\left( 0.287675, \\  0.038775\\right)$"
      ],
      "text/plain": [
       "(0.287675, 0.038775)"
      ]
     },
     "execution_count": 169,
     "metadata": {},
     "output_type": "execute_result"
    }
   ],
   "source": [
    "# Υπολογίζουμε τα αθροιστικά μεγέθη για τις χορηγήσεις και τις καταθέσεις\n",
    "Lstar = L1star[0].subs(vals) + L2star.subs(vals)\n",
    "Dstar = D1star[0].subs(vals) + D2star.subs(vals)\n",
    "\n",
    "\n",
    "invrL.xreplace({L:Lstar}).subs(vals) , invrD.xreplace({D:Dstar}).subs(vals)"
   ]
  },
  {
   "cell_type": "markdown",
   "metadata": {},
   "source": [
    "### Διαγράμματα Βέλτιστης Αντίδρασης"
   ]
  },
  {
   "cell_type": "code",
   "execution_count": 170,
   "metadata": {},
   "outputs": [],
   "source": [
    "#responseL1 = sp.lambdify(L2, L1star[0].subs(vals), modules=['numpy'])\n",
    "def responseL1(x):\n",
    "    return np.full(x.shape, 2374.75) #Το επίπεδο χορηγήσεων της ηγέτιδος τράπεζας\n",
    "# Έδώ έχουμε χρησιμοποιήσει την εντολή numpy.full ωστε να μας γυρνάει η συνάρτηση ένα διάνυσμα ίσης διάστασης\n",
    "# με την διάσταση των τιμών των x , δηλ τα x_values \n",
    "responseL2 = sp.lambdify(L1, L22[0].subs(vals), modules=['numpy'])\n",
    "\n",
    "x_vals = np.linspace(1, 4000, 100)\n",
    "y_vals = responseL1(x_vals)\n",
    "z_vals = responseL2(x_vals)\n"
   ]
  },
  {
   "cell_type": "code",
   "execution_count": 171,
   "metadata": {},
   "outputs": [
    {
     "data": {
      "image/png": "[encoded data removed]",
      "text/plain": [
       "<Figure size 640x480 with 1 Axes>"
      ]
     },
     "metadata": {},
     "output_type": "display_data"
    }
   ],
   "source": [
    "#Διάγραμμα\n",
    "\n",
    "plt.plot(y_vals, x_vals, x_vals, z_vals)\n",
    "\n",
    "#plt.plot(x_vals, y_vals, 'r')\n",
    "plt.title('Καμπύλες  βέλτιστης Αντίδρασης')\n",
    "plt.grid(True)\n",
    "plt.ylabel(\"$L_2$\")\n",
    "plt.xlabel(\"$L_1$\")\n",
    "plt.legend(['$L_1(L_2)$', '$L_2(L_1)$'])\n",
    "plt.show()"
   ]
  },
  {
   "cell_type": "code",
   "execution_count": 172,
   "metadata": {},
   "outputs": [],
   "source": [
    "#responseL1 = sp.lambdify(L2, L1star[0].subs(vals), modules=['numpy'])\n",
    "def responseD1(x):\n",
    "    return np.full(x.shape, 192.5) #Το επίπεδο χορηγήσεων της ηγέτιδος τράπεζας\n",
    "# Έδώ έχουμε χρησιμοποιήσει την εντολή numpy.full ωστε να μας γυρνάει η συνάρτηση ένα διάνυσμα ίσης διάστασης\n",
    "# με την διάσταση των τιμών των x , δηλ τα x_values \n",
    "responseD2 = sp.lambdify(D1, D22[0].subs(vals), modules=['numpy'])\n",
    "\n",
    "x_vals = np.linspace(1, 400, 100)\n",
    "y_vals = responseD1(x_vals)\n",
    "z_vals = responseD2(x_vals)\n"
   ]
  },
  {
   "cell_type": "code",
   "execution_count": 173,
   "metadata": {},
   "outputs": [
    {
     "data": {
      "image/png": "[encoded data removed]",
      "text/plain": [
       "<Figure size 640x480 with 1 Axes>"
      ]
     },
     "metadata": {},
     "output_type": "display_data"
    }
   ],
   "source": [
    "#Διάγραμμα\n",
    "\n",
    "plt.plot(y_vals, x_vals, x_vals, z_vals)\n",
    "\n",
    "#plt.plot(x_vals, y_vals, 'r')\n",
    "plt.title('Καμπύλες  βέλτιστης Αντίδρασης')\n",
    "plt.grid(True)\n",
    "plt.ylabel(\"$D_2$\")\n",
    "plt.xlabel(\"$D_1$\")\n",
    "plt.legend(['$D_1(D_2)$', '$D_2(D_1)$'])\n",
    "plt.show()"
   ]
  }
 ],
 "metadata": {
  "kernelspec": {
   "display_name": "Python 3",
   "language": "python",
   "name": "python3"
  },
  "language_info": {
   "codemirror_mode": {
    "name": "ipython",
    "version": 3
   },
   "file_extension": ".py",
   "mimetype": "text/x-python",
   "name": "python",
   "nbconvert_exporter": "python",
   "pygments_lexer": "ipython3",
   "version": "3.11.2"
  }
 },
 "nbformat": 4,
 "nbformat_minor": 2
}
